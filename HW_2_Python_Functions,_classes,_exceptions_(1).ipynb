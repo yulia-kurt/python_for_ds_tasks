{
  "cells": [
    {
      "cell_type": "markdown",
      "id": "1561554f",
      "metadata": {
        "id": "1561554f"
      },
      "source": [
        "В цьому домашньому завданні вже є якісь частини коду та в кожному завданні описано, що з ними треба зробити, часто - просто виконати після того, як ви напишете частину, якої поки не вистачає. Пишіть, будь ласка, код, який реалізує рішення кожного завдання, безпосереньо під формулюванням завдання, створюючи нові клітинки. Можете створювати скільки завгодно клітинок для виконання одного завдання."
      ]
    },
    {
      "cell_type": "markdown",
      "id": "0a6cdc68",
      "metadata": {
        "id": "0a6cdc68"
      },
      "source": [
        "1.Напишіть функцію `is_even`, яка для заданого числа визначає, чи воно є парним (тобто ділиться на 2 без остачі, наприклад 4, 10, 102). Функція має вертати результат типу bool.\n",
        "Продемонструйте результати робити функції запустивши код нижче."
      ]
    },
    {
      "cell_type": "code",
      "execution_count": 27,
      "id": "683c4a24",
      "metadata": {
        "id": "683c4a24"
      },
      "outputs": [],
      "source": [
        "def is_even (d: int) -> bool:\n",
        "  if d % 2 ==0:\n",
        "    return True\n",
        "  else:\n",
        "    return False"
      ]
    },
    {
      "cell_type": "code",
      "source": [
        "def is_even (digit):\n",
        "  return digit % 2 == 0"
      ],
      "metadata": {
        "id": "txhiaLtUhB_3"
      },
      "id": "txhiaLtUhB_3",
      "execution_count": 28,
      "outputs": []
    },
    {
      "cell_type": "code",
      "execution_count": 29,
      "id": "d330f7a5",
      "metadata": {
        "ExecuteTime": {
          "end_time": "2022-10-22T08:25:20.700754Z",
          "start_time": "2022-10-22T08:25:20.680503Z"
        },
        "colab": {
          "base_uri": "https://localhost:8080/"
        },
        "id": "d330f7a5",
        "outputId": "0042469f-410d-4a97-8823-d3e777b1ec4e"
      },
      "outputs": [
        {
          "output_type": "execute_result",
          "data": {
            "text/plain": [
              "[False, True, False, False, True]"
            ]
          },
          "metadata": {},
          "execution_count": 29
        }
      ],
      "source": [
        "[is_even(digit) for digit in [101, 2002, 3043, 5015, 8222]]"
      ]
    },
    {
      "cell_type": "markdown",
      "id": "b114762c",
      "metadata": {
        "ExecuteTime": {
          "end_time": "2022-10-22T04:15:21.939494Z",
          "start_time": "2022-10-22T04:15:21.933981Z"
        },
        "id": "b114762c"
      },
      "source": [
        "2.Напишіть функцію `get_random_int_list`, яка вертає задану кількість випадкових цілих чисел з діапазону від 0 до 100. Для генерації випадкових чисел, скористуйтесь модулем random. Продемонструйте результат роботи функції, запустивши код нижче."
      ]
    },
    {
      "cell_type": "code",
      "execution_count": 30,
      "id": "ac65cf16",
      "metadata": {
        "id": "ac65cf16"
      },
      "outputs": [],
      "source": [
        "import random\n",
        "\n",
        "def get_random_int_list (n_digits:int) -> list[int]:\n",
        "    return [random.randint(0,100) for _ in range(n_digits)]"
      ]
    },
    {
      "cell_type": "code",
      "source": [
        "def get_random_int_list(n_digits):\n",
        "  l = []\n",
        "  for _ in range(n_digits):\n",
        "    l.append (random.randint(0,100))\n",
        "  return l"
      ],
      "metadata": {
        "id": "NGgkoATqlC-J"
      },
      "id": "NGgkoATqlC-J",
      "execution_count": 31,
      "outputs": []
    },
    {
      "cell_type": "code",
      "execution_count": 32,
      "id": "c2d9628d",
      "metadata": {
        "ExecuteTime": {
          "end_time": "2022-10-22T08:28:53.439808Z",
          "start_time": "2022-10-22T08:28:53.434855Z"
        },
        "colab": {
          "base_uri": "https://localhost:8080/"
        },
        "id": "c2d9628d",
        "outputId": "0603fb8e-9257-4757-d142-1d886375e6f2"
      },
      "outputs": [
        {
          "output_type": "execute_result",
          "data": {
            "text/plain": [
              "[2, 90, 13, 23, 44, 99, 48, 23]"
            ]
          },
          "metadata": {},
          "execution_count": 32
        }
      ],
      "source": [
        "get_random_int_list(8)"
      ]
    },
    {
      "cell_type": "markdown",
      "id": "23d6eb7c",
      "metadata": {
        "id": "23d6eb7c"
      },
      "source": [
        "3.У наступному фрагменті коду для 5-ти людей розраховується  [індекс маси тіла (BMI)](https://uk.wikipedia.org/wiki/%D0%86%D0%BD%D0%B4%D0%B5%D0%BA%D1%81_%D0%BC%D0%B0%D1%81%D0%B8_%D1%82%D1%96%D0%BB%D0%B0#:~:text=%D0%86%CC%81%D0%BD%D0%B4%D0%B5%D0%BA%D1%81%20%D0%BC%D0%B0%CC%81%D1%81%D0%B8%20%D1%82%D1%96%CC%81%D0%BB%D0%B0%20(%D0%86%D0%9C%D0%A2%2C%20%D0%B0%D0%BD%D0%B3%D0%BB,%D0%BD%D0%BE%D1%80%D0%BC%D0%B0%D0%BB%D1%8C%D0%BD%D0%BE%D1%8E%2C%20%D0%BD%D0%B0%D0%B4%D0%BC%D1%96%D1%80%D0%BD%D0%BE%D1%8E%20(%D0%BE%D0%B6%D0%B8%D1%80%D1%96%D0%BD%D0%BD%D1%8F%D0%BC) пʼяти осіб. Для обчислення індексу маси тіла треба розділити вагу на зріст, піднесений до квадрату.\n",
        "\n",
        "Виділіть у функцію код, що дублюється (робить логічно одне і те ж саме) у цьому фрагменті коду так, аби результат виводився **той самий**. Такого плану зміни коду в розробці називаються \"рефакторинг\" :)  \n",
        "В кінці - запустіть свій відрефакторений фрагмент коду.\n",
        "\n",
        "Увага: очевидно, можна обгорнути даний код у функцію по-різному. Єдиної правильної відповіді нема. Буде перевірятись розуміння підходу \"винесення частин, що повторюються, у функцію\"."
      ]
    },
    {
      "cell_type": "code",
      "execution_count": 33,
      "id": "eb0eea8a",
      "metadata": {
        "ExecuteTime": {
          "end_time": "2022-10-22T09:13:20.937195Z",
          "start_time": "2022-10-22T09:13:20.858878Z"
        },
        "id": "eb0eea8a",
        "colab": {
          "base_uri": "https://localhost:8080/"
        },
        "outputId": "4cf5d1c0-91a3-48f0-ecb4-7b83f59faeef"
      },
      "outputs": [
        {
          "output_type": "stream",
          "name": "stdout",
          "text": [
            "bmi person1 = 30\n",
            "bmi person2 = 29\n",
            "bmi person3 = 29\n",
            "bmi person4 = 24\n",
            "bmi person5 = 28\n"
          ]
        }
      ],
      "source": [
        "person1 = [80, 1.62]\n",
        "person2 = [69, 1.53]\n",
        "person3 = [80, 1.66]\n",
        "person4 = [80, 1.79]\n",
        "person5 = [72, 1.60]\n",
        "\n",
        "bmi_person1 = int(person1[0] / person1[1]**2)\n",
        "print(\"bmi {} = {}\".format('person1', bmi_person1))\n",
        "\n",
        "bmi_person2 = int(person2[0] / person2[1]**2)\n",
        "print(\"bmi {} = {}\".format('person2', bmi_person2))\n",
        "\n",
        "bmi_person3 = int(person3[0] / person3[1]**2)\n",
        "print(\"bmi {} = {}\".format('person3', bmi_person3))\n",
        "\n",
        "bmi_person4 = int(person4[0] / person4[1]**2)\n",
        "print(\"bmi {} = {}\".format('person4', bmi_person4))\n",
        "\n",
        "bmi_person5 = int(person5[0] / person5[1]**2)\n",
        "print(\"bmi {} = {}\".format('person5', bmi_person5))"
      ]
    },
    {
      "cell_type": "code",
      "execution_count": 34,
      "id": "970b4ac5",
      "metadata": {
        "id": "970b4ac5"
      },
      "outputs": [],
      "source": [
        "def bmi_calc(person_num, weight_kg, height_m):\n",
        "  \"\"\"Calculate BMI in from weight in kg and height in meters\"\"\"\n",
        "  bmi = int(weight_kg/height_m**2)\n",
        "  name = 'person' + str(person_num)\n",
        "  print = (\"bmi {} = {}\".format(name,bmi))\n",
        "  # person data = [id, weight_kg, height_m]\n",
        "  people = [\n",
        "      [1, 80, 1.62], #person1\n",
        "      [2, 69, 1.53], #person2\n",
        "      [3, 80, 1.66], #person3\n",
        "      [4, 80, 1.79], #person4\n",
        "      [5, 72, 1.60]  #person5\n",
        "  ]\n",
        "  for person in people:\n",
        "    person_num, weight_kg, height_m = person[0], person[1], person[2]\n",
        "    bmi_calc(person_num, weight_kg, height_m)"
      ]
    },
    {
      "cell_type": "code",
      "source": [
        "def bmi_calc(person_num, weight_kg, height_m):\n",
        "  \"\"\"Calculate BMI in from weight in kg and height in meters\"\"\"\n",
        "  bmi = int(weight_kg/height_m**2)\n",
        "  name = 'person' + str(person_num)\n",
        "  print = (\"bmi {} = {}\".format(name,bmi))\n",
        "  # person data = [id, weight_kg, height_m]\n",
        "  people = [\n",
        "      [1, 80, 1.62], #person1\n",
        "      [2, 69, 1.53], #person2\n",
        "      [3, 80, 1.66], #person3\n",
        "      [4, 80, 1.79], #person4\n",
        "      [5, 72, 1.60]  #person5\n",
        "  ]\n",
        "  for i, person in enumerate(people):\n",
        "    person_num, weight_kg, height_m = i+1, person[0], person[1]\n",
        "    bmi_calc(person_num, weight_kg, height_m)"
      ],
      "metadata": {
        "id": "hLBjkqx5eBts"
      },
      "id": "hLBjkqx5eBts",
      "execution_count": 35,
      "outputs": []
    },
    {
      "cell_type": "code",
      "source": [
        "people = [\n",
        "    {'name': \"person1\", \"weight\": 80, \"height\":1.62 },\n",
        "    {'name': \"person2\", \"weight\": 69, \"height\":1.53 },\n",
        "    {'name': \"person3\", \"weight\": 80, \"height\":1.66 },\n",
        "    {'name': \"person4\", \"weight\": 80, \"height\":1.79 },\n",
        "    {'name': \"person5\", \"weight\": 72, \"height\":1.60 }\n",
        "\n",
        "]\n",
        "def calculate_bmi(person):\n",
        "  bmi = int(person [weight] / [height]**2)\n",
        "  print = (\"bmi {} = {}\".format(peron, ['name'],bmi))\n",
        "\n",
        "  for person in people:\n",
        "    calculate_bmi (person)"
      ],
      "metadata": {
        "id": "xL7V1-nPrYyi"
      },
      "id": "xL7V1-nPrYyi",
      "execution_count": 36,
      "outputs": []
    },
    {
      "cell_type": "markdown",
      "id": "3ba9c768",
      "metadata": {
        "ExecuteTime": {
          "end_time": "2022-10-22T09:44:07.936985Z",
          "start_time": "2022-10-22T09:44:07.861792Z"
        },
        "id": "3ba9c768"
      },
      "source": [
        "4.Напишіть функцію `distance`, яка вимірює відстань між двома точками на лінії. Тобто нам треба знайти модуль різниці двох чисел (дивись картинку і формулу нижче). Функція має приймати на вхід два параметри, перевіряти, що обидва з них є чисельного типу (тобто або цілим числом, або числом з плаваючою комою):\n",
        "- якщо так, то функція вертає результат обчислення,\n",
        "- якщо типи неправильні, то у функції підіймається виняток з повідомленням \"Неправильний тип даних одного або обох введених чисел\". Виняток може бути як користувацького типу (тобто ви визначили свій тип винятку), або стандартний Exception з вашим повідомленням, що розповідає про помилку, яка сталася.\n",
        "\n",
        "Аби обчислити модуль скористайтесь функцією `abs`."
      ]
    },
    {
      "cell_type": "markdown",
      "id": "5c99f8ab",
      "metadata": {
        "id": "5c99f8ab"
      },
      "source": [
        "![Screenshot%20%282%29.png](attachment:Screenshot%20%282%29.png)"
      ]
    },
    {
      "cell_type": "markdown",
      "id": "4785a35b",
      "metadata": {
        "id": "4785a35b"
      },
      "source": [
        "Після написання функції `distance`, запустіть наступний код:"
      ]
    },
    {
      "cell_type": "code",
      "execution_count": 37,
      "id": "3e26b0e0",
      "metadata": {
        "id": "3e26b0e0"
      },
      "outputs": [],
      "source": [
        "class CustomExeption(Exception):\n",
        "  pass\n",
        "\n",
        "def is_digit(x):\n",
        "  return type(x) == int or type(x) == float\n",
        "\n",
        "  def distance (x1, x2):\n",
        "    if is_digit(x1) and is_digit(x2):\n",
        "      return abs(x1-x2)\n",
        "    else:\n",
        "        raise CustomExeption (\"Неправильний тип даних одного або обох введених чисел\")\n"
      ]
    },
    {
      "cell_type": "code",
      "source": [
        "def distance (x1,x2):\n",
        "  if is_digit(x1) and is_digit(x2):\n",
        "      return abs(x1-x2)\n",
        "  else:\n",
        "      raise Exeption (\"Неправильний тип даних одного або обох введених чисел\")"
      ],
      "metadata": {
        "id": "VPni6eKeO0mm"
      },
      "id": "VPni6eKeO0mm",
      "execution_count": 38,
      "outputs": []
    },
    {
      "cell_type": "code",
      "source": [
        "# Приклад застосування фукції distance на практиці в проекті\n",
        "def user_distance(x1,x2):\n",
        "  dist = distance(x1,x2)\n",
        "  if dist>1:\n",
        "    return 'OK'\n",
        "  else:\n",
        "    return 'not enough'"
      ],
      "metadata": {
        "id": "NQehXWoHQQyg"
      },
      "id": "NQehXWoHQQyg",
      "execution_count": 39,
      "outputs": []
    },
    {
      "cell_type": "code",
      "execution_count": 40,
      "id": "3818fba8",
      "metadata": {
        "ExecuteTime": {
          "end_time": "2022-10-22T09:55:22.957399Z",
          "start_time": "2022-10-22T09:55:22.918566Z"
        },
        "id": "3818fba8",
        "colab": {
          "base_uri": "https://localhost:8080/",
          "height": 339
        },
        "outputId": "6d353f7a-bf4e-49d7-9ae3-773bc223c7a6"
      },
      "outputs": [
        {
          "output_type": "stream",
          "name": "stdout",
          "text": [
            "1\n",
            "1009\n",
            "1754\n"
          ]
        },
        {
          "output_type": "error",
          "ename": "NameError",
          "evalue": "ignored",
          "traceback": [
            "\u001b[0;31m---------------------------------------------------------------------------\u001b[0m",
            "\u001b[0;31mNameError\u001b[0m                                 Traceback (most recent call last)",
            "\u001b[0;32m<ipython-input-40-72ddad503848>\u001b[0m in \u001b[0;36m<cell line: 4>\u001b[0;34m()\u001b[0m\n\u001b[1;32m      2\u001b[0m \u001b[0mprint\u001b[0m\u001b[0;34m(\u001b[0m\u001b[0mdistance\u001b[0m\u001b[0;34m(\u001b[0m\u001b[0;36m1011\u001b[0m\u001b[0;34m,\u001b[0m\u001b[0;36m2\u001b[0m\u001b[0;34m)\u001b[0m\u001b[0;34m)\u001b[0m\u001b[0;34m\u001b[0m\u001b[0;34m\u001b[0m\u001b[0m\n\u001b[1;32m      3\u001b[0m \u001b[0mprint\u001b[0m\u001b[0;34m(\u001b[0m\u001b[0mdistance\u001b[0m\u001b[0;34m(\u001b[0m\u001b[0;34m-\u001b[0m\u001b[0;36m199\u001b[0m\u001b[0;34m,\u001b[0m \u001b[0;36m1555\u001b[0m\u001b[0;34m)\u001b[0m\u001b[0;34m)\u001b[0m\u001b[0;34m\u001b[0m\u001b[0;34m\u001b[0m\u001b[0m\n\u001b[0;32m----> 4\u001b[0;31m \u001b[0mprint\u001b[0m\u001b[0;34m(\u001b[0m\u001b[0mdistance\u001b[0m\u001b[0;34m(\u001b[0m\u001b[0;34m'2121'\u001b[0m\u001b[0;34m,\u001b[0m \u001b[0;36m123\u001b[0m\u001b[0;34m)\u001b[0m\u001b[0;34m)\u001b[0m\u001b[0;34m\u001b[0m\u001b[0;34m\u001b[0m\u001b[0m\n\u001b[0m",
            "\u001b[0;32m<ipython-input-38-b20bcce98eeb>\u001b[0m in \u001b[0;36mdistance\u001b[0;34m(x1, x2)\u001b[0m\n\u001b[1;32m      3\u001b[0m       \u001b[0;32mreturn\u001b[0m \u001b[0mabs\u001b[0m\u001b[0;34m(\u001b[0m\u001b[0mx1\u001b[0m\u001b[0;34m-\u001b[0m\u001b[0mx2\u001b[0m\u001b[0;34m)\u001b[0m\u001b[0;34m\u001b[0m\u001b[0;34m\u001b[0m\u001b[0m\n\u001b[1;32m      4\u001b[0m   \u001b[0;32melse\u001b[0m\u001b[0;34m:\u001b[0m\u001b[0;34m\u001b[0m\u001b[0;34m\u001b[0m\u001b[0m\n\u001b[0;32m----> 5\u001b[0;31m       \u001b[0;32mraise\u001b[0m \u001b[0mExeption\u001b[0m \u001b[0;34m(\u001b[0m\u001b[0;34m\"Неправильний тип даних одного або обох введених чисел\"\u001b[0m\u001b[0;34m)\u001b[0m\u001b[0;34m\u001b[0m\u001b[0;34m\u001b[0m\u001b[0m\n\u001b[0m",
            "\u001b[0;31mNameError\u001b[0m: name 'Exeption' is not defined"
          ]
        }
      ],
      "source": [
        "print(distance(1,2))\n",
        "print(distance(1011,2))\n",
        "print(distance(-199, 1555))\n",
        "print(distance('2121', 123))"
      ]
    },
    {
      "cell_type": "markdown",
      "id": "5f983749",
      "metadata": {
        "id": "5f983749"
      },
      "source": [
        "5.Нижче є створений клас \"Shop\". Це клас для визначення магазинів компанії \"АВС\". У кожного магазина є локація і прибуток. Створіть три магазини в трьох окремих змінних:  \n",
        "- один з локацією \"Київ\" та прибутком 5500,   \n",
        "- другий - з локацією \"Львів\" та прибутком 3000,  \n",
        "- третій - з локацією \"Полтава\" та прибутком 2500  \n",
        "\n",
        "Порахуйте після цього суму прибутків трьох магазинів використовуючи інформацію про створені магазини.\n",
        "Виведіть сумарний прибуток на екран."
      ]
    },
    {
      "cell_type": "code",
      "execution_count": 41,
      "id": "84cb2eb2",
      "metadata": {
        "ExecuteTime": {
          "end_time": "2022-10-22T10:05:31.337430Z",
          "start_time": "2022-10-22T10:05:31.321277Z"
        },
        "id": "84cb2eb2"
      },
      "outputs": [],
      "source": [
        "class Shop:\n",
        "    company = 'ABC'\n",
        "\n",
        "    def __init__(self, location, profit):\n",
        "        self.location = location\n",
        "        self.profit = profit"
      ]
    },
    {
      "cell_type": "code",
      "execution_count": 42,
      "id": "170727c8",
      "metadata": {
        "id": "170727c8",
        "colab": {
          "base_uri": "https://localhost:8080/"
        },
        "outputId": "bf9fc205-3c59-4939-bad5-e79812846df3"
      },
      "outputs": [
        {
          "output_type": "execute_result",
          "data": {
            "text/plain": [
              "11000"
            ]
          },
          "metadata": {},
          "execution_count": 42
        }
      ],
      "source": [
        "shop_1 = Shop ('Київ', 5500)\n",
        "shop_2 = Shop ('Львів', 3000)\n",
        "shop_3 = Shop ('Полтава', 2500)\n",
        "\n",
        "tota_profit = shop_1.profit + shop_2.profit + shop_3.profit\n",
        "tota_profit"
      ]
    },
    {
      "cell_type": "code",
      "source": [
        "total = 0\n",
        "for shop in [ shop_1, shop_2, shop_3]:\n",
        "  total += shop.profit\n",
        "  print(total)"
      ],
      "metadata": {
        "colab": {
          "base_uri": "https://localhost:8080/"
        },
        "id": "lWErcxFVwctm",
        "outputId": "b84f6fff-3278-467c-fbb5-69b26c6b0466"
      },
      "id": "lWErcxFVwctm",
      "execution_count": 43,
      "outputs": [
        {
          "output_type": "stream",
          "name": "stdout",
          "text": [
            "5500\n",
            "8500\n",
            "11000\n"
          ]
        }
      ]
    },
    {
      "cell_type": "markdown",
      "id": "3feaa824",
      "metadata": {
        "ExecuteTime": {
          "end_time": "2022-10-22T10:12:49.668479Z",
          "start_time": "2022-10-22T10:12:49.636219Z"
        },
        "id": "3feaa824"
      },
      "source": [
        "6.Створіть клас `Employee`, який при ініціалізації представника класу визначає поля \"Прізвище\", \"Місяць народження\" та \"Зарплата\" та запустіть код нижче."
      ]
    },
    {
      "cell_type": "code",
      "source": [
        "class Employee:\n",
        "  def __init__(self, surname, birth_month,salary):\n",
        "    self.surname = surname\n",
        "    self.birth_month = birth_month\n",
        "    self.salary = salary"
      ],
      "metadata": {
        "id": "z3EyXVAm1gWt"
      },
      "id": "z3EyXVAm1gWt",
      "execution_count": 2,
      "outputs": []
    },
    {
      "cell_type": "code",
      "execution_count": 3,
      "id": "b0fcc9f2",
      "metadata": {
        "ExecuteTime": {
          "end_time": "2022-10-22T10:17:27.305480Z",
          "start_time": "2022-10-22T10:17:27.302072Z"
        },
        "id": "b0fcc9f2"
      },
      "outputs": [],
      "source": [
        "emp_1 = Employee('Чорненко', 'жовтень', 2000)\n",
        "emp_2 = Employee('Біленко', 'січень', 3000)\n",
        "emp_3 = Employee('Жовтенко', 'березень', 3400)"
      ]
    },
    {
      "cell_type": "markdown",
      "id": "d6d285b8",
      "metadata": {
        "ExecuteTime": {
          "end_time": "2022-10-22T10:17:28.531508Z",
          "start_time": "2022-10-22T10:17:28.526117Z"
        },
        "id": "d6d285b8"
      },
      "source": [
        "7.До класу `Employee` додайте метод `salutate`, який вітатиме з **місяцем** народження. Аби додати метод - скопіюйте просто код з визначенням класа з попереднього завдання і додайте туди новий метод.  \n",
        "Метод має приймати на вхід заданий місяць і\n",
        "- якщо цей місяць співпадає з місяцем народження співробітника, виводить `Вітаємо, пане <прізвище співробітника>! Зараз місяць <назва місяця> у Вас День народження! Будьте здорові!`. Для формування привітання використайте інтерполяцію рядків.\n",
        "- якщо місяць не співпадає з місяцем народження співробітника, метод нічого не вертає.  \n",
        "\n",
        "Коли зробите завдання - запустіть код нижче."
      ]
    },
    {
      "cell_type": "code",
      "execution_count": 21,
      "id": "be3e17d7",
      "metadata": {
        "id": "be3e17d7"
      },
      "outputs": [],
      "source": [
        "class Employee:\n",
        "    def __init__(self, surname, birth_month,salary):\n",
        "      self.surname = surname\n",
        "      self.birth_month = birth_month\n",
        "      self.salary = salary\n",
        "\n",
        "    def salutate(self, month):\n",
        "      if month == self.birth_month:\n",
        "        print (f\"Вітаємо, пане {self.surname}! Зараз місяць {month} у Вас День народження! Будьте здорові!\")"
      ]
    },
    {
      "cell_type": "code",
      "execution_count": 22,
      "id": "056e127e",
      "metadata": {
        "ExecuteTime": {
          "end_time": "2022-10-22T10:26:35.300805Z",
          "start_time": "2022-10-22T10:26:35.294501Z"
        },
        "id": "056e127e",
        "colab": {
          "base_uri": "https://localhost:8080/"
        },
        "outputId": "d92b27c7-6d6d-4a8b-f436-a7e42b9111f0"
      },
      "outputs": [
        {
          "output_type": "stream",
          "name": "stdout",
          "text": [
            "Вітаємо, пане Біленко! Зараз місяць січень у Вас День народження! Будьте здорові!\n"
          ]
        }
      ],
      "source": [
        "emp_1 = Employee('Чорненко', 'жовтень', 2000)\n",
        "emp_2 = Employee('Біленко', 'січень', 3000)\n",
        "emp_3 = Employee('Жовтенко', 'березень', 3400)\n",
        "\n",
        "emp_1.salutate('грудень')\n",
        "emp_2.salutate('січень')\n",
        "emp_3.salutate('травень')"
      ]
    },
    {
      "cell_type": "markdown",
      "id": "ca02deba",
      "metadata": {
        "id": "ca02deba"
      },
      "source": [
        "8.Створіть клас, який наслідує `Employee` та називається `BossEmployee`. У цього класа при ініціалізації є всі ті самі поля, що і в Employee, але також є поле `n_subordinates`, тобто \"кількість підлеглих\".\n",
        "\n",
        "Додайте новоствореному класу метод `add_subordinates`, який додаватиме передану в метод кількість підлеглих цьому босу (тобто буде оновлювати поле класу `n_subordinates`) та буде виводити повідомлення `Вітаємо, пане <прізвище співробітника>! У Вас <введене в метод число> нових співробітників!`. Перевірте, аби кількість нових підлеглих була цілою, якщо це не так, виведіть повідомлення: `Число <введене в метод число, округлене до трьох чисел після коми> не може бути кількістю підлеглих.`.\n",
        "\n",
        "Для формування повідомлень використайте метод форматування рядків, котрий був другим в лекції (з `format` частиною).\n",
        "Коли зробите завдання - запустіть код нижче."
      ]
    },
    {
      "cell_type": "code",
      "execution_count": 25,
      "id": "ac4f01e7",
      "metadata": {
        "id": "ac4f01e7"
      },
      "outputs": [],
      "source": [
        "class BossEmployee(Employee):\n",
        "  def __init__(self, surname, birth_month,salary, n_subordinates):\n",
        "    super().__init__(surname, birth_month,salary)\n",
        "    self.n_subordinates = n_subordinates\n",
        "\n",
        "  def add_subordinates(self, n_new_subordinates):\n",
        "    if isinstance(n_new_subordinates, int):\n",
        "      self.n_subordinates += n_new_subordinates\n",
        "      print(\"Вітаємо, пане{}! У вас {} нових співробітників!\".format(self.surname, n_new_subordinates))\n",
        "    else:\n",
        "      print(\"Число{:.3f} не може бути кількістю підлеглих.\".format(n_new_subordinates))"
      ]
    },
    {
      "cell_type": "code",
      "execution_count": 26,
      "id": "b6e5e6c0",
      "metadata": {
        "ExecuteTime": {
          "end_time": "2022-10-22T10:44:43.938323Z",
          "start_time": "2022-10-22T10:44:43.932171Z"
        },
        "id": "b6e5e6c0",
        "colab": {
          "base_uri": "https://localhost:8080/"
        },
        "outputId": "08831714-ac53-4aff-e974-014cffb2f1fc"
      },
      "outputs": [
        {
          "output_type": "stream",
          "name": "stdout",
          "text": [
            "Вітаємо, панеБосенко! У вас 5 нових співробітників!\n",
            "Число4.788 не може бути кількістю підлеглих.\n",
            "Вітаємо, панеБосенко! У вас 4 нових співробітників!\n"
          ]
        },
        {
          "output_type": "execute_result",
          "data": {
            "text/plain": [
              "12"
            ]
          },
          "metadata": {},
          "execution_count": 26
        }
      ],
      "source": [
        "emp_4 = BossEmployee('Босенко', 'липень', 5500, 3)\n",
        "emp_4.add_subordinates(5)\n",
        "emp_4.add_subordinates(4.78764174)\n",
        "emp_4.add_subordinates(4)\n",
        "emp_4.n_subordinates"
      ]
    },
    {
      "cell_type": "markdown",
      "id": "c3e0bd00",
      "metadata": {
        "id": "c3e0bd00"
      },
      "source": [
        "Очікуваний результат виконання команд вище:\n",
        "```\n",
        "Вітаємо, пане Босенко! У Вас 5 нових співробітників!     \n",
        "Число 4.788 не може бути кількістю підлеглих.\n",
        "Вітаємо, пане Босенко! У Вас 4 нових співробітників!\n",
        "12\n",
        "```"
      ]
    },
    {
      "cell_type": "markdown",
      "id": "441e5d09",
      "metadata": {
        "id": "441e5d09"
      },
      "source": [
        "# Ураа!! Ви доробили ДРУГЕ домашнє завдання!!! З кожним ДЗ ви стаєте з Python все ближче і ближче. Ваші відносини зараз - він поставив вогник на вашу сторіс 😉\n",
        "В кінці курсу будете наче пити просеко на кухні і обговорювати останні мемчики.  \n",
        "\n",
        "Аби здати ДЗ - залийте ноутбук у гітхаб репозиторій, який ви створили у перші дні навчання на курсі, та додайте посилання на файл у відповідному завданні в Eduflow.\n",
        "Далі - ще цікавіше! 🚀🚀🚀"
      ]
    }
  ],
  "metadata": {
    "kernelspec": {
      "display_name": "Python 3 (ipykernel)",
      "language": "python",
      "name": "python3"
    },
    "language_info": {
      "codemirror_mode": {
        "name": "ipython",
        "version": 3
      },
      "file_extension": ".py",
      "mimetype": "text/x-python",
      "name": "python",
      "nbconvert_exporter": "python",
      "pygments_lexer": "ipython3",
      "version": "3.10.4"
    },
    "toc": {
      "base_numbering": 1,
      "nav_menu": {},
      "number_sections": true,
      "sideBar": true,
      "skip_h1_title": false,
      "title_cell": "Table of Contents",
      "title_sidebar": "Contents",
      "toc_cell": false,
      "toc_position": {},
      "toc_section_display": true,
      "toc_window_display": false
    },
    "colab": {
      "provenance": []
    }
  },
  "nbformat": 4,
  "nbformat_minor": 5
}