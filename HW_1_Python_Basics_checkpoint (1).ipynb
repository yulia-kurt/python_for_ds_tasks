{
  "cells": [
    {
      "cell_type": "markdown",
      "id": "08f1c51f",
      "metadata": {
        "pycharm": {
          "name": "#%% md\n"
        },
        "id": "08f1c51f"
      },
      "source": [
        "# Домашнє завдання до теми \"Python Basics\"\n",
        "В цьому ДЗ важливою умовою виконання завдань є те, що ми не імпортуємо жодних бібліотек, а робимо все на чистому Python, використовуючи лише базовий функціонал. Це необхідно аби відпрацювати роботу з базовими типами даних. А використовувати бібліотеки ми ще навчимось далі :)"
      ]
    },
    {
      "cell_type": "markdown",
      "id": "0f3e7772",
      "metadata": {
        "pycharm": {
          "name": "#%% md\n"
        },
        "id": "0f3e7772"
      },
      "source": [
        "## Робота з числами та арифметичними операторами"
      ]
    },
    {
      "cell_type": "markdown",
      "id": "b2a2e2a5",
      "metadata": {
        "ExecuteTime": {
          "end_time": "2023-05-26T10:30:07.427381Z",
          "start_time": "2023-05-26T10:30:07.416247Z"
        },
        "id": "b2a2e2a5"
      },
      "source": [
        "1.Створіть змінну, яка буде зберігати кількість яблук. І надайте їй значення 5. Виведіть значення змінної на екран."
      ]
    },
    {
      "cell_type": "code",
      "execution_count": null,
      "id": "c2b60bbe",
      "metadata": {
        "ExecuteTime": {
          "end_time": "2023-05-26T10:11:10.553841Z",
          "start_time": "2023-05-26T10:11:10.550848Z"
        },
        "id": "c2b60bbe"
      },
      "outputs": [],
      "source": [
        "apple = 5"
      ]
    },
    {
      "cell_type": "markdown",
      "id": "22291667",
      "metadata": {
        "id": "22291667"
      },
      "source": [
        "2.Виведіть тип змінної, створеної в завданні (1)."
      ]
    },
    {
      "cell_type": "code",
      "execution_count": null,
      "id": "7982a09a",
      "metadata": {
        "colab": {
          "base_uri": "https://localhost:8080/"
        },
        "id": "7982a09a",
        "outputId": "f92549e6-353a-4efe-ce13-d6afef42dde6"
      },
      "outputs": [
        {
          "output_type": "execute_result",
          "data": {
            "text/plain": [
              "int"
            ]
          },
          "metadata": {},
          "execution_count": 7
        }
      ],
      "source": [
        "type(apple)"
      ]
    },
    {
      "cell_type": "markdown",
      "id": "d43e1e57",
      "metadata": {
        "id": "d43e1e57"
      },
      "source": [
        "3.Додайте до значення змінної, створеної в завданні (1) число `12` і виведіть результат на екран з допомогою команди `print()`."
      ]
    },
    {
      "cell_type": "code",
      "execution_count": null,
      "id": "42729777",
      "metadata": {
        "colab": {
          "base_uri": "https://localhost:8080/"
        },
        "id": "42729777",
        "outputId": "859e7c2f-a210-4455-f3a0-12f72f56799c"
      },
      "outputs": [
        {
          "output_type": "stream",
          "name": "stdout",
          "text": [
            "17\n"
          ]
        }
      ],
      "source": [
        "apple = apple +12\n",
        "print(apple)"
      ]
    },
    {
      "cell_type": "markdown",
      "id": "0be48f79",
      "metadata": {
        "pycharm": {
          "name": "#%% md\n"
        },
        "id": "0be48f79"
      },
      "source": [
        "4.Створіть змінні `a`, `b`, `c` та `d`, задайте їм значення відповідно 101, 210, 111, 402, та обчисліть з допомогою Python наступний вираз:  $$ \\frac{(a+b) * c}{d} $$\n",
        "\n",
        "**Важливо**: тут ми маємо обчислити значення саме з використанням змінних, а не просто чисел, як би ми робили у калькуряторі. Змінні потрібні аби за бажання ми могли змінити їх значення та не переписувати код обчислення виразу, бо він буде працювати для різних значень змінних."
      ]
    },
    {
      "cell_type": "code",
      "execution_count": null,
      "id": "9d7e1690",
      "metadata": {
        "pycharm": {
          "name": "#%%\n"
        },
        "id": "9d7e1690"
      },
      "outputs": [],
      "source": [
        "a = 101\n",
        "b = 210\n",
        "c = 111\n",
        "d = 402"
      ]
    },
    {
      "cell_type": "code",
      "source": [
        "a, b, c, d = 101, 210, 111, 402"
      ],
      "metadata": {
        "id": "tnrl-eoX9Bri"
      },
      "id": "tnrl-eoX9Bri",
      "execution_count": 1,
      "outputs": []
    },
    {
      "cell_type": "code",
      "execution_count": null,
      "id": "ac05ac3f",
      "metadata": {
        "colab": {
          "base_uri": "https://localhost:8080/"
        },
        "id": "ac05ac3f",
        "outputId": "7f0c31d5-6783-4c85-ae58-c96212c5a826"
      },
      "outputs": [
        {
          "output_type": "execute_result",
          "data": {
            "text/plain": [
              "85.8731343283582"
            ]
          },
          "metadata": {},
          "execution_count": 5
        }
      ],
      "source": [
        "(a+b)*c/d"
      ]
    },
    {
      "cell_type": "markdown",
      "id": "b4183f4f",
      "metadata": {
        "pycharm": {
          "name": "#%% md\n"
        },
        "id": "b4183f4f"
      },
      "source": [
        "Очікувана відповідь: 85.8731343283582"
      ]
    },
    {
      "cell_type": "markdown",
      "id": "1e9d3655",
      "metadata": {
        "id": "1e9d3655"
      },
      "source": [
        "5.Якою буде остача від ділення числа 11283 на 89? Обчисліть з допомогою Python."
      ]
    },
    {
      "cell_type": "code",
      "execution_count": null,
      "id": "def00fa0",
      "metadata": {
        "colab": {
          "base_uri": "https://localhost:8080/"
        },
        "id": "def00fa0",
        "outputId": "497149f8-9438-46cc-a998-53a800f11136"
      },
      "outputs": [
        {
          "output_type": "execute_result",
          "data": {
            "text/plain": [
              "69"
            ]
          },
          "metadata": {},
          "execution_count": 9
        }
      ],
      "source": [
        "11283%89"
      ]
    },
    {
      "cell_type": "markdown",
      "id": "bd2491e2",
      "metadata": {
        "id": "bd2491e2"
      },
      "source": [
        "6.Скільки цілих разів поміститься число 89 в 11283? (Або що те саме: який буде результат цілочисельного ділення 11283 на 89?)"
      ]
    },
    {
      "cell_type": "code",
      "execution_count": null,
      "id": "02e0c7b3",
      "metadata": {
        "colab": {
          "base_uri": "https://localhost:8080/"
        },
        "id": "02e0c7b3",
        "outputId": "1d3b8820-d3bb-4765-d6bd-7d0ac858bc87"
      },
      "outputs": [
        {
          "output_type": "execute_result",
          "data": {
            "text/plain": [
              "126"
            ]
          },
          "metadata": {},
          "execution_count": 10
        }
      ],
      "source": [
        "11283//89"
      ]
    },
    {
      "cell_type": "markdown",
      "id": "676db6ee",
      "metadata": {
        "ExecuteTime": {
          "end_time": "2022-10-15T22:38:58.278123Z",
          "start_time": "2022-10-15T22:38:58.274895Z"
        },
        "pycharm": {
          "name": "#%% md\n"
        },
        "id": "676db6ee"
      },
      "source": [
        "# Робота з рядками"
      ]
    },
    {
      "cell_type": "markdown",
      "id": "60423850",
      "metadata": {
        "pycharm": {
          "name": "#%% md\n"
        },
        "id": "60423850"
      },
      "source": [
        "7.Запишіть у змінну `name` ваше імʼя."
      ]
    },
    {
      "cell_type": "code",
      "execution_count": 3,
      "id": "473006f4",
      "metadata": {
        "pycharm": {
          "name": "#%%\n"
        },
        "id": "473006f4"
      },
      "outputs": [],
      "source": [
        "name = \"Yuliia\""
      ]
    },
    {
      "cell_type": "markdown",
      "id": "4b3acd9d",
      "metadata": {
        "pycharm": {
          "name": "#%% md\n"
        },
        "id": "4b3acd9d"
      },
      "source": [
        "8.Запишіть у змінну `surname` ваше прізвище."
      ]
    },
    {
      "cell_type": "code",
      "execution_count": 4,
      "id": "c5defe1b",
      "metadata": {
        "pycharm": {
          "name": "#%%\n"
        },
        "id": "c5defe1b"
      },
      "outputs": [],
      "source": [
        "surname = \"Kozishkurt\""
      ]
    },
    {
      "cell_type": "markdown",
      "id": "ab162f8e",
      "metadata": {
        "pycharm": {
          "name": "#%% md\n"
        },
        "id": "ab162f8e"
      },
      "source": [
        "9.Сконкатенуйте імʼя та прізвище в одну фразу через пробіл. Запишіть результат у нову змінну `name_surname` та виведіть результат на екран."
      ]
    },
    {
      "cell_type": "code",
      "execution_count": 5,
      "id": "522d3253",
      "metadata": {
        "pycharm": {
          "name": "#%%\n"
        },
        "id": "522d3253"
      },
      "outputs": [],
      "source": [
        "name_surname = (name)+' '+( surname)"
      ]
    },
    {
      "cell_type": "code",
      "source": [
        "print(name_surname)"
      ],
      "metadata": {
        "colab": {
          "base_uri": "https://localhost:8080/"
        },
        "id": "aaalvxS_6k4m",
        "outputId": "b49eb966-ddd8-43de-ad53-b27a708f783d"
      },
      "id": "aaalvxS_6k4m",
      "execution_count": 6,
      "outputs": [
        {
          "output_type": "stream",
          "name": "stdout",
          "text": [
            "Yuliia Kozishkurt\n"
          ]
        }
      ]
    },
    {
      "cell_type": "markdown",
      "id": "77e679dd",
      "metadata": {
        "pycharm": {
          "name": "#%% md\n"
        },
        "id": "77e679dd"
      },
      "source": [
        "Очікувана відповідь (тільки з вашими даними): 'Hanna Pylieva'"
      ]
    },
    {
      "cell_type": "markdown",
      "source": [],
      "metadata": {
        "id": "NPsNRm1N6YQm"
      },
      "id": "NPsNRm1N6YQm"
    },
    {
      "cell_type": "markdown",
      "id": "e68adcf7",
      "metadata": {
        "pycharm": {
          "name": "#%% md\n"
        },
        "id": "e68adcf7"
      },
      "source": [
        "10.Зробіть усі літери змінної `name_surname` заглавними використовуючи метод рядків в Python:"
      ]
    },
    {
      "cell_type": "markdown",
      "id": "20a20420",
      "metadata": {
        "pycharm": {
          "name": "#%% md\n"
        },
        "id": "20a20420"
      },
      "source": [
        "Очікувана відповідь (тільки з вашими даними): 'HANNA PYLIEVA'"
      ]
    },
    {
      "cell_type": "code",
      "execution_count": 7,
      "id": "1047cda3",
      "metadata": {
        "pycharm": {
          "name": "#%%\n"
        },
        "id": "1047cda3"
      },
      "outputs": [],
      "source": [
        "s = 'Yuliia Kozishkurt'"
      ]
    },
    {
      "cell_type": "code",
      "source": [
        "print(s.upper())"
      ],
      "metadata": {
        "colab": {
          "base_uri": "https://localhost:8080/"
        },
        "id": "7jtV7kyb8sAY",
        "outputId": "1fa56fb6-e166-4581-af96-78617b05b197"
      },
      "id": "7jtV7kyb8sAY",
      "execution_count": 8,
      "outputs": [
        {
          "output_type": "stream",
          "name": "stdout",
          "text": [
            "YULIIA KOZISHKURT\n"
          ]
        }
      ]
    },
    {
      "cell_type": "markdown",
      "id": "e7e1c7ae",
      "metadata": {
        "pycharm": {
          "name": "#%% md\n"
        },
        "id": "e7e1c7ae"
      },
      "source": [
        "11.Виведіть третю літеру вашого `name_surname`. Тут уважно, треба саме третя літера. Згадайте, з якого значення починається індексування значень в Python."
      ]
    },
    {
      "cell_type": "code",
      "execution_count": 9,
      "id": "191baf85",
      "metadata": {
        "pycharm": {
          "name": "#%%\n"
        },
        "id": "191baf85",
        "colab": {
          "base_uri": "https://localhost:8080/",
          "height": 35
        },
        "outputId": "d273be72-ce19-46c0-ea63-d760b8ead4f0"
      },
      "outputs": [
        {
          "output_type": "execute_result",
          "data": {
            "text/plain": [
              "'l'"
            ],
            "application/vnd.google.colaboratory.intrinsic+json": {
              "type": "string"
            }
          },
          "metadata": {},
          "execution_count": 9
        }
      ],
      "source": [
        "i = s\n",
        "i[2]"
      ]
    },
    {
      "cell_type": "markdown",
      "id": "181c489d",
      "metadata": {
        "pycharm": {
          "name": "#%% md\n"
        },
        "id": "181c489d"
      },
      "source": [
        "Очікувана відповідь (тільки з вашими даними): 'n'"
      ]
    },
    {
      "cell_type": "markdown",
      "id": "1f3cc1a7",
      "metadata": {
        "pycharm": {
          "name": "#%% md\n"
        },
        "id": "1f3cc1a7"
      },
      "source": [
        "12.Виведіть першу та останню літеру вашого прізвища."
      ]
    },
    {
      "cell_type": "code",
      "source": [
        "l[0],l[9]"
      ],
      "metadata": {
        "colab": {
          "base_uri": "https://localhost:8080/"
        },
        "id": "x_bfoTWuKqei",
        "outputId": "0d728cc4-65e6-4da3-8783-1cb3e9a5a8d0"
      },
      "id": "x_bfoTWuKqei",
      "execution_count": 12,
      "outputs": [
        {
          "output_type": "execute_result",
          "data": {
            "text/plain": [
              "('K', 't')"
            ]
          },
          "metadata": {},
          "execution_count": 12
        }
      ]
    },
    {
      "cell_type": "markdown",
      "id": "df1b4a52",
      "metadata": {
        "pycharm": {
          "name": "#%% md\n"
        },
        "id": "df1b4a52"
      },
      "source": [
        "Очікувана відповідь (тільки з вашими даними): ('P', 'a')"
      ]
    },
    {
      "cell_type": "markdown",
      "id": "0ad4f21f",
      "metadata": {
        "pycharm": {
          "name": "#%% md\n"
        },
        "id": "0ad4f21f"
      },
      "source": [
        "13.Виведіть довжину вашого прізвища."
      ]
    },
    {
      "cell_type": "code",
      "execution_count": 11,
      "id": "8aadf013",
      "metadata": {
        "pycharm": {
          "name": "#%%\n"
        },
        "id": "8aadf013",
        "colab": {
          "base_uri": "https://localhost:8080/"
        },
        "outputId": "48ad7257-de3c-43a1-a245-f2772a013f26"
      },
      "outputs": [
        {
          "output_type": "execute_result",
          "data": {
            "text/plain": [
              "10"
            ]
          },
          "metadata": {},
          "execution_count": 11
        }
      ],
      "source": [
        "l=\"Kozishkurt\"\n",
        "len(l)"
      ]
    },
    {
      "cell_type": "markdown",
      "id": "ec1a8d38",
      "metadata": {
        "pycharm": {
          "name": "#%% md\n"
        },
        "id": "ec1a8d38"
      },
      "source": [
        "Очікувана відповідь (тільки з вашими даними): 7"
      ]
    },
    {
      "cell_type": "markdown",
      "id": "fc4ee632",
      "metadata": {
        "pycharm": {
          "name": "#%% md\n"
        },
        "id": "fc4ee632"
      },
      "source": [
        "14.Виведіть кількість літер `a` у столиці Мадагаскару `Antananarivo`. Важливо врахувати всі літери, як великі, так і маленькі."
      ]
    },
    {
      "cell_type": "code",
      "execution_count": 13,
      "id": "4c83c237",
      "metadata": {
        "pycharm": {
          "name": "#%%\n"
        },
        "id": "4c83c237",
        "colab": {
          "base_uri": "https://localhost:8080/"
        },
        "outputId": "4a71259a-27e2-44d8-dea2-98dae54c0265"
      },
      "outputs": [
        {
          "output_type": "execute_result",
          "data": {
            "text/plain": [
              "4"
            ]
          },
          "metadata": {},
          "execution_count": 13
        }
      ],
      "source": [
        "'Antananarivo'.count ('a') + 'Antananarivo'.count ('A')"
      ]
    },
    {
      "cell_type": "markdown",
      "id": "3b822954",
      "metadata": {
        "pycharm": {
          "name": "#%% md\n"
        },
        "id": "3b822954"
      },
      "source": [
        "Очікувана відповідь: 4"
      ]
    },
    {
      "cell_type": "markdown",
      "id": "3d7ff9aa",
      "metadata": {
        "ExecuteTime": {
          "end_time": "2023-05-28T22:53:18.824389Z",
          "start_time": "2023-05-28T22:53:18.816117Z"
        },
        "id": "3d7ff9aa"
      },
      "source": [
        "15.Створіть рядок `my_string` зі значенням: \"The quick brown fox jumps over the lazy dog!!!\".\n",
        "Перевірте, чи починається рядок `my_string` з \"The\" і чи закінчується він \"dog!\". Виведіть результати на екран."
      ]
    },
    {
      "cell_type": "code",
      "execution_count": 15,
      "id": "00c6af56",
      "metadata": {
        "colab": {
          "base_uri": "https://localhost:8080/"
        },
        "id": "00c6af56",
        "outputId": "ae790fca-6109-4e65-d19c-24db8bba9483"
      },
      "outputs": [
        {
          "output_type": "execute_result",
          "data": {
            "text/plain": [
              "(True, False)"
            ]
          },
          "metadata": {},
          "execution_count": 15
        }
      ],
      "source": [
        "my_string = \"The quick brown fox jumps over the lazy dog!!!\"\n",
        "my_string.startswith('The'), my_string.endswith('dog!')"
      ]
    },
    {
      "cell_type": "markdown",
      "id": "49725d46",
      "metadata": {
        "id": "49725d46"
      },
      "source": [
        "16.Розділіть рядок `my_string` на список слів, а потім з'єднайте всі слова через нижнє підкреслювання. Виведіть результат на екран."
      ]
    },
    {
      "cell_type": "code",
      "execution_count": 17,
      "id": "13e3d90a",
      "metadata": {
        "id": "13e3d90a",
        "colab": {
          "base_uri": "https://localhost:8080/",
          "height": 35
        },
        "outputId": "6d57efd7-8967-4deb-ca19-57a6f909fc52"
      },
      "outputs": [
        {
          "output_type": "execute_result",
          "data": {
            "text/plain": [
              "'The_quick_brown_fox_jumps_over_the_lazy_dog!!!'"
            ],
            "application/vnd.google.colaboratory.intrinsic+json": {
              "type": "string"
            }
          },
          "metadata": {},
          "execution_count": 17
        }
      ],
      "source": [
        "words_list = my_string.split()\n",
        "\"_\".join(words_list)"
      ]
    },
    {
      "cell_type": "code",
      "source": [
        "words_list [2]"
      ],
      "metadata": {
        "colab": {
          "base_uri": "https://localhost:8080/",
          "height": 35
        },
        "id": "XuCNJnA5C7c8",
        "outputId": "3b9cef62-18aa-4107-91b3-6e9d4dd0da07"
      },
      "id": "XuCNJnA5C7c8",
      "execution_count": 19,
      "outputs": [
        {
          "output_type": "execute_result",
          "data": {
            "text/plain": [
              "'brown'"
            ],
            "application/vnd.google.colaboratory.intrinsic+json": {
              "type": "string"
            }
          },
          "metadata": {},
          "execution_count": 19
        }
      ]
    },
    {
      "cell_type": "markdown",
      "id": "5803bd7c",
      "metadata": {
        "id": "5803bd7c"
      },
      "source": [
        "Очікуваний результат: `The_quick_brown_fox_jumps_over_the_lazy_dog!!!`"
      ]
    },
    {
      "cell_type": "markdown",
      "id": "8365109c",
      "metadata": {
        "pycharm": {
          "name": "#%% md\n"
        },
        "id": "8365109c"
      },
      "source": [
        "# Робота зі колекціями"
      ]
    },
    {
      "cell_type": "markdown",
      "id": "efd4a344",
      "metadata": {
        "pycharm": {
          "name": "#%% md\n"
        },
        "id": "efd4a344"
      },
      "source": [
        "У нас є наступний список:"
      ]
    },
    {
      "cell_type": "code",
      "execution_count": 20,
      "id": "33f9a114",
      "metadata": {
        "ExecuteTime": {
          "end_time": "2023-05-28T22:45:54.832906Z",
          "start_time": "2023-05-28T22:45:54.827613Z"
        },
        "pycharm": {
          "name": "#%%\n"
        },
        "id": "33f9a114"
      },
      "outputs": [],
      "source": [
        "my_list = [\n",
        "    78, 12, 14, 27, 47, 28, 51, 46, 94, 37, 42, 20, 52, 33, 11, 11, 51,\n",
        "    20, 81, 54, 86, 51, 38, 42, 49, 99, 76, 17,  9, 23, 97, 29, 29, 63,\n",
        "    40, 11, 31, 76, 15, 21, 29, 75, 35,  2, 10, 71, 17, 10, 13,  7, 44,\n",
        "    12, 19, 61, 13, 25, 62, 46, 10, 44, 75, 57, 20, 57,  3, 44, 16, 28,\n",
        "    79, 57, 62, 70, 95,  8, 47, 82, 80, 45, 36, 44, 79, 95, 73, 42, 29,\n",
        "    83, 80, 66, 56,  8, 73,  5, 99, 65, 65, 98, 17, 36, 16, 60\n",
        "]"
      ]
    },
    {
      "cell_type": "markdown",
      "id": "77d55ecf",
      "metadata": {
        "pycharm": {
          "name": "#%% md\n"
        },
        "id": "77d55ecf"
      },
      "source": [
        "Будемо з ним працювати в наступних завданнях."
      ]
    },
    {
      "cell_type": "markdown",
      "id": "7a9d114b",
      "metadata": {
        "pycharm": {
          "name": "#%% md\n"
        },
        "id": "7a9d114b"
      },
      "source": [
        "17.Виведіть 5 перших елементів списку `my_list` з допомогою слайсингу."
      ]
    },
    {
      "cell_type": "code",
      "execution_count": 21,
      "id": "1a6e26e9",
      "metadata": {
        "pycharm": {
          "name": "#%%\n"
        },
        "id": "1a6e26e9",
        "colab": {
          "base_uri": "https://localhost:8080/"
        },
        "outputId": "094e6c7b-8fa2-4aaf-b682-2362aaf8815c"
      },
      "outputs": [
        {
          "output_type": "execute_result",
          "data": {
            "text/plain": [
              "[78, 12, 14, 27, 47, 28]"
            ]
          },
          "metadata": {},
          "execution_count": 21
        }
      ],
      "source": [
        "my_list[:6]"
      ]
    },
    {
      "cell_type": "markdown",
      "id": "0c995ae4",
      "metadata": {
        "pycharm": {
          "name": "#%% md\n"
        },
        "id": "0c995ae4"
      },
      "source": [
        "Очікувана відповідь: [78, 12, 14, 27, 47]"
      ]
    },
    {
      "cell_type": "markdown",
      "id": "3cd8551a",
      "metadata": {
        "ExecuteTime": {
          "end_time": "2023-05-28T22:46:26.546845Z",
          "start_time": "2023-05-28T22:46:26.540558Z"
        },
        "id": "3cd8551a"
      },
      "source": [
        "18.Виведіть 3 останніх елементи списку `my_list` з допомогою слайсингу."
      ]
    },
    {
      "cell_type": "code",
      "execution_count": 22,
      "id": "1f19fd19",
      "metadata": {
        "id": "1f19fd19",
        "colab": {
          "base_uri": "https://localhost:8080/"
        },
        "outputId": "4cc4f6b2-c371-45bd-c15c-1e89e7236411"
      },
      "outputs": [
        {
          "output_type": "execute_result",
          "data": {
            "text/plain": [
              "[36, 16, 60]"
            ]
          },
          "metadata": {},
          "execution_count": 22
        }
      ],
      "source": [
        "my_list[-3:]"
      ]
    },
    {
      "cell_type": "markdown",
      "id": "58a98ef0",
      "metadata": {
        "pycharm": {
          "name": "#%% md\n"
        },
        "id": "58a98ef0"
      },
      "source": [
        "19.Виведіть максимальний і мінімальний елемент у списку. Сформуйте відповідь у наступному форматі\n",
        "```\n",
        "Max element  <число>\n",
        "Min element  <число>\n",
        "```"
      ]
    },
    {
      "cell_type": "code",
      "execution_count": 24,
      "id": "008f459c",
      "metadata": {
        "pycharm": {
          "name": "#%%\n"
        },
        "id": "008f459c",
        "colab": {
          "base_uri": "https://localhost:8080/"
        },
        "outputId": "96607e04-d28d-4c92-97e6-d3243e911bed"
      },
      "outputs": [
        {
          "output_type": "stream",
          "name": "stdout",
          "text": [
            "Max element 99\n",
            "Min element 2\n"
          ]
        }
      ],
      "source": [
        "print ('Max element', max (my_list))\n",
        "print ('Min element', min (my_list))"
      ]
    },
    {
      "cell_type": "markdown",
      "id": "c19c1cf7",
      "metadata": {
        "pycharm": {
          "name": "#%% md\n"
        },
        "id": "c19c1cf7"
      },
      "source": [
        "Очікувана відповідь:\n",
        "\n",
        "```\n",
        "Max element  99\n",
        "Min element  2\n",
        "```"
      ]
    },
    {
      "cell_type": "markdown",
      "id": "4e43e698",
      "metadata": {
        "pycharm": {
          "name": "#%% md\n"
        },
        "id": "4e43e698"
      },
      "source": [
        "20.Створіть новий список `my_list_2`, який містить кожен 11-й елемент списку `my_list`. Виведіть `my_list_2` на екран.\n",
        "Памʼятаємо, що перший з \"кожного одинадцятого елементу\" списку має індекс 10.\n",
        "Це завдання можна виконати як з використанням циклів, так і з використанням слайсингу."
      ]
    },
    {
      "cell_type": "code",
      "execution_count": 26,
      "id": "5b4c4729",
      "metadata": {
        "pycharm": {
          "name": "#%%\n"
        },
        "id": "5b4c4729",
        "colab": {
          "base_uri": "https://localhost:8080/"
        },
        "outputId": "0a829715-947a-42e8-bedd-44291b012fbc"
      },
      "outputs": [
        {
          "output_type": "execute_result",
          "data": {
            "text/plain": [
              "[42, 51, 29, 2, 13, 44, 80, 66, 16]"
            ]
          },
          "metadata": {},
          "execution_count": 26
        }
      ],
      "source": [
        "my_list_2 = my_list[10::11]\n",
        "my_list_2"
      ]
    },
    {
      "cell_type": "markdown",
      "id": "0c734831",
      "metadata": {
        "ExecuteTime": {
          "end_time": "2023-01-20T20:10:37.303981Z",
          "start_time": "2023-01-20T20:10:37.275706Z"
        },
        "pycharm": {
          "name": "#%%\n"
        },
        "id": "0c734831"
      },
      "source": [
        "Очікуваний результат: `[42, 51, 29, 2, 13, 44, 80, 66, 16]`"
      ]
    },
    {
      "cell_type": "markdown",
      "id": "60fab123",
      "metadata": {
        "id": "60fab123"
      },
      "source": [
        "## ВИ - МОЛОДЕЦЬ! ЗРОБИЛИ 20 ЗАВДАНЬ!\n",
        "Далі завдання будуть трохи складніше. Деколи в завданнях треба буде написати цикл або list comprehension. Але я впевнена, що у Вас все вийде!"
      ]
    },
    {
      "cell_type": "markdown",
      "id": "fca24ff1",
      "metadata": {
        "pycharm": {
          "name": "#%% md\n"
        },
        "id": "fca24ff1"
      },
      "source": [
        "21.Створіть новий список `my_list_2_squared`, де кожен елемент списку `my_list_2` є піднесеним до степіня 2."
      ]
    },
    {
      "cell_type": "code",
      "execution_count": 27,
      "id": "e29f5e82",
      "metadata": {
        "id": "e29f5e82",
        "colab": {
          "base_uri": "https://localhost:8080/"
        },
        "outputId": "47550d67-d87b-4be2-bb2d-5ea08429f274"
      },
      "outputs": [
        {
          "output_type": "execute_result",
          "data": {
            "text/plain": [
              "[1764, 2601, 841, 4, 169, 1936, 6400, 4356, 256]"
            ]
          },
          "metadata": {},
          "execution_count": 27
        }
      ],
      "source": [
        "my_list_2_squared = [el**2 for el in my_list_2]\n",
        "my_list_2_squared"
      ]
    },
    {
      "cell_type": "code",
      "source": [
        "my_list_2_squared = []\n",
        "for el in my_list_2:\n",
        "  my_list_2_squared.append(el**2)\n",
        "  my_list_2_squared"
      ],
      "metadata": {
        "id": "6DStqMWYJs_S"
      },
      "id": "6DStqMWYJs_S",
      "execution_count": 30,
      "outputs": []
    },
    {
      "cell_type": "markdown",
      "id": "0dce0d8e",
      "metadata": {
        "pycharm": {
          "name": "#%% md\n"
        },
        "id": "0dce0d8e"
      },
      "source": [
        "Очікуваний результат: `[1764, 2601, 841, 4, 169, 1936, 6400, 4356, 256]`"
      ]
    },
    {
      "cell_type": "markdown",
      "id": "c267a553",
      "metadata": {
        "pycharm": {
          "name": "#%% md\n"
        },
        "id": "c267a553"
      },
      "source": [
        "22.Знайдіть суму всіх елементів списку `my_list_2` та виведіть її на екран."
      ]
    },
    {
      "cell_type": "code",
      "execution_count": 31,
      "id": "7f37b29f",
      "metadata": {
        "pycharm": {
          "name": "#%%\n"
        },
        "id": "7f37b29f",
        "colab": {
          "base_uri": "https://localhost:8080/"
        },
        "outputId": "ab78d31f-5987-46a1-de23-a4b9b281fd83"
      },
      "outputs": [
        {
          "output_type": "execute_result",
          "data": {
            "text/plain": [
              "343"
            ]
          },
          "metadata": {},
          "execution_count": 31
        }
      ],
      "source": [
        "sum(my_list_2)"
      ]
    },
    {
      "cell_type": "markdown",
      "id": "b12acfc2",
      "metadata": {
        "pycharm": {
          "name": "#%% md\n"
        },
        "id": "b12acfc2"
      },
      "source": [
        "23.Знайдіть середнє значення елементів списку `my_list_2`, збережіть результат у змінну `my_list_2_mean`. Виведіть новостворену змінну та ії тип на екран.\n",
        "**Підказка**: середнє значення - це сума елементів поділена на їх кількість. А кількість елементів в списку - це його довжина."
      ]
    },
    {
      "cell_type": "code",
      "execution_count": 33,
      "id": "51fbb32b",
      "metadata": {
        "pycharm": {
          "name": "#%%\n"
        },
        "id": "51fbb32b",
        "colab": {
          "base_uri": "https://localhost:8080/"
        },
        "outputId": "70e05b6f-3c6b-4258-bb05-1973fff079ae"
      },
      "outputs": [
        {
          "output_type": "execute_result",
          "data": {
            "text/plain": [
              "(38.111111111111114, float)"
            ]
          },
          "metadata": {},
          "execution_count": 33
        }
      ],
      "source": [
        "my_list_2_mean = sum(my_list_2)/len(my_list_2)\n",
        "my_list_2_mean, type(my_list_2_mean)"
      ]
    },
    {
      "cell_type": "markdown",
      "id": "079359aa",
      "metadata": {
        "pycharm": {
          "name": "#%% md\n"
        },
        "id": "079359aa"
      },
      "source": [
        "24.Створіть новий список `my_list_2_gt_mean`, за наступним правилом: \"якщо цей елемент спиcку `my_list_2` є більше за `my_list_2_mean`, то запишемо 1, інакше 0. Виведіть новий список на екран."
      ]
    },
    {
      "cell_type": "code",
      "execution_count": 36,
      "id": "6e69be6f",
      "metadata": {
        "pycharm": {
          "name": "#%%\n"
        },
        "id": "6e69be6f",
        "colab": {
          "base_uri": "https://localhost:8080/"
        },
        "outputId": "2afc3844-03d3-4fb9-b674-8b8e8d39c70d"
      },
      "outputs": [
        {
          "output_type": "execute_result",
          "data": {
            "text/plain": [
              "[1, 1, 0, 0, 0, 1, 1, 1, 0]"
            ]
          },
          "metadata": {},
          "execution_count": 36
        }
      ],
      "source": [
        "my_list_2_gt_mean = [int (el > my_list_2_mean) for el in my_list_2]\n",
        "my_list_2_gt_mean"
      ]
    },
    {
      "cell_type": "markdown",
      "id": "3079f1e6",
      "metadata": {
        "id": "3079f1e6"
      },
      "source": [
        "Очікуваний результат: `[1, 1, 0, 0, 0, 1, 1, 1, 0]`"
      ]
    },
    {
      "cell_type": "markdown",
      "id": "eef1aae7",
      "metadata": {
        "pycharm": {
          "name": "#%% md\n"
        },
        "id": "eef1aae7"
      },
      "source": [
        "25.Чи є в списку `my_list` елементи, які повторюються? Перевірте це програмно і з допомогою інструкцій `if ... else` виведіть на екран відповідь \"Так, є елементи, які повторюються\", або \"Ні, всі елементи унікальні\".\n",
        "Важливо це зробити без використання імпортів будь-яких бібліотек, на чистому Python так би мовити."
      ]
    },
    {
      "cell_type": "code",
      "execution_count": 41,
      "id": "766170f3",
      "metadata": {
        "pycharm": {
          "name": "#%%\n"
        },
        "id": "766170f3"
      },
      "outputs": [],
      "source": [
        "unique_elements = set(my_list)"
      ]
    },
    {
      "cell_type": "code",
      "source": [
        "len(unique_elements), len(my_list)"
      ],
      "metadata": {
        "colab": {
          "base_uri": "https://localhost:8080/"
        },
        "id": "2r2tJJqxV7nn",
        "outputId": "9605fb12-bea0-4715-ff4b-87a56d5cc801"
      },
      "id": "2r2tJJqxV7nn",
      "execution_count": 42,
      "outputs": [
        {
          "output_type": "execute_result",
          "data": {
            "text/plain": [
              "(63, 100)"
            ]
          },
          "metadata": {},
          "execution_count": 42
        }
      ]
    },
    {
      "cell_type": "code",
      "source": [
        "if len(unique_elements) == len(my_list):\n",
        "  print(\"Ні, всі елементи унікальні\")\n",
        "else:\n",
        "    print(\"Так, є елементи, які повторюються\")"
      ],
      "metadata": {
        "colab": {
          "base_uri": "https://localhost:8080/"
        },
        "id": "dIZkemRoWLsX",
        "outputId": "2f2c6124-12e3-4963-fb69-f137dbd93353"
      },
      "id": "dIZkemRoWLsX",
      "execution_count": 46,
      "outputs": [
        {
          "output_type": "stream",
          "name": "stdout",
          "text": [
            "Так, є елементи, які повторюються\n"
          ]
        }
      ]
    },
    {
      "cell_type": "markdown",
      "id": "cee3dda8",
      "metadata": {
        "pycharm": {
          "name": "#%% md\n"
        },
        "id": "cee3dda8"
      },
      "source": [
        "26.Для кожного унікального елементу списку `my_list` знайдіть, скільки разів він повторюється, та запишіть сукупний результат для всіх елементів (тобто скільки разів повторюється кожен елемент) у змінну `n_repeats`. Виведіть `n_repeats` на екран.\n",
        "\n",
        "**Підказка**: `n_repeats` матиме тип \"словник\". Порядок ключів в словнику не має значення! Тобто ключі в словнику не обовʼязково мають бути в тому ж порядку, як наведено в прикладі результату. Але кількості зустрічань для кожного елемента мають співпадати з наведеними."
      ]
    },
    {
      "cell_type": "code",
      "execution_count": 48,
      "id": "129111b7",
      "metadata": {
        "pycharm": {
          "name": "#%%\n"
        },
        "id": "129111b7",
        "colab": {
          "base_uri": "https://localhost:8080/"
        },
        "outputId": "7fdc94b5-c5b8-4be3-d788-9667dd9136c2"
      },
      "outputs": [
        {
          "output_type": "stream",
          "name": "stdout",
          "text": [
            "{2: 1, 3: 1, 5: 1, 7: 1, 8: 2, 9: 1, 10: 3, 11: 3, 12: 2, 13: 2, 14: 1, 15: 1, 16: 2, 17: 3, 19: 1, 20: 3, 21: 1, 23: 1, 25: 1, 27: 1, 28: 2, 29: 4, 31: 1, 33: 1, 35: 1, 36: 2, 37: 1, 38: 1, 40: 1, 42: 3, 44: 4, 45: 1, 46: 2, 47: 2, 49: 1, 51: 3, 52: 1, 54: 1, 56: 1, 57: 3, 60: 1, 61: 1, 62: 2, 63: 1, 65: 2, 66: 1, 70: 1, 71: 1, 73: 2, 75: 2, 76: 2, 78: 1, 79: 2, 80: 2, 81: 1, 82: 1, 83: 1, 86: 1, 94: 1, 95: 2, 97: 1, 98: 1, 99: 2}\n"
          ]
        }
      ],
      "source": [
        "n_repeats = {el:my_list.count(el) for el in unique_elements}\n",
        "print(n_repeats)\n"
      ]
    },
    {
      "cell_type": "markdown",
      "id": "9858eefd",
      "metadata": {
        "pycharm": {
          "name": "#%% md\n"
        },
        "id": "9858eefd"
      },
      "source": [
        "Очікуваний результат (три крапки - для скорочення, у вас буде виведений повний набір унікальних елементів):\n",
        "```\n",
        "{2: 1, 3: 1, 5: 1, 7: 1, 8: 2, 9: 1, 10: 3, 11: 3, 12: 2, 13: 2, 14: 1, 15: 1, 16: 2, 17: 3, 19: 1, 20: 3, 21: 1, 23: 1, 25: 1, 27: 1, 28: 2, 29: 4, 31: 1, 33: 1, 35: 1, 36: 2, 37: 1, 38: 1, 40: 1, 42: 3, 44: 4, 45: 1, 46: 2, 47: 2, 49: 1, 51: 3, 52: 1, 54: 1, 56: 1, 57: 3, 60: 1, 61: 1, 62: 2, 63: 1, 65: 2, 66: 1, 70: 1, 71: 1, 73: 2, 75: 2, 76: 2, 78: 1, 79: 2, 80: 2, 81: 1, 82: 1, 83: 1, 86: 1, 94: 1, 95: 2, 97: 1, 98: 1, 99: 2}\n",
        "```"
      ]
    },
    {
      "cell_type": "markdown",
      "id": "10c98ea7",
      "metadata": {
        "pycharm": {
          "name": "#%% md\n"
        },
        "id": "10c98ea7"
      },
      "source": [
        "27.Знайдіть три найменші **унікальні** елементи в списку `my_list`. Збережіть знайдені елементи в змінну `least_3_my_list`. Виведіть значення змінної `least_3_my_list` на екран."
      ]
    },
    {
      "cell_type": "code",
      "execution_count": 50,
      "id": "8cabdfc7",
      "metadata": {
        "pycharm": {
          "name": "#%%\n"
        },
        "id": "8cabdfc7",
        "colab": {
          "base_uri": "https://localhost:8080/"
        },
        "outputId": "c2b71097-8c59-407c-c3ce-7a81a179c9ec"
      },
      "outputs": [
        {
          "output_type": "execute_result",
          "data": {
            "text/plain": [
              "[2, 3, 5]"
            ]
          },
          "metadata": {},
          "execution_count": 50
        }
      ],
      "source": [
        "least_3_my_list = list(unique_elements)[:3]\n",
        "least_3_my_list"
      ]
    },
    {
      "cell_type": "markdown",
      "id": "672d2981",
      "metadata": {
        "pycharm": {
          "name": "#%% md\n"
        },
        "id": "672d2981"
      },
      "source": [
        "Очікувана відповідь: [2, 3, 5]\n"
      ]
    },
    {
      "cell_type": "markdown",
      "id": "bb70f24a",
      "metadata": {
        "pycharm": {
          "name": "#%% md\n"
        },
        "id": "bb70f24a"
      },
      "source": [
        "# Ураа!! Ви завершили перше домашнє завдання!!!\n",
        "Аби здати ДЗ - залийте ноутбук у гітхаб репозиторій, який ви створили у перші дні навчання на курсі, та додайте посилання на файл у відповідному завданні в Eduflow.\n",
        "Так тримати! 🚀🚀🚀"
      ]
    }
  ],
  "metadata": {
    "kernelspec": {
      "display_name": "Python 3 (ipykernel)",
      "language": "python",
      "name": "python3"
    },
    "language_info": {
      "codemirror_mode": {
        "name": "ipython",
        "version": 3
      },
      "file_extension": ".py",
      "mimetype": "text/x-python",
      "name": "python",
      "nbconvert_exporter": "python",
      "pygments_lexer": "ipython3",
      "version": "3.10.4"
    },
    "toc": {
      "base_numbering": 1,
      "nav_menu": {},
      "number_sections": true,
      "sideBar": true,
      "skip_h1_title": false,
      "title_cell": "Table of Contents",
      "title_sidebar": "Contents",
      "toc_cell": false,
      "toc_position": {},
      "toc_section_display": true,
      "toc_window_display": false
    },
    "colab": {
      "provenance": []
    }
  },
  "nbformat": 4,
  "nbformat_minor": 5
}